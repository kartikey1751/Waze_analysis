{
 "cells": [
  {
   "cell_type": "code",
   "execution_count": 1,
   "id": "bc7497f1",
   "metadata": {
    "execution": {
     "iopub.execute_input": "2023-12-24T23:23:58.608662Z",
     "iopub.status.busy": "2023-12-24T23:23:58.608321Z",
     "iopub.status.idle": "2023-12-24T23:24:00.253039Z",
     "shell.execute_reply": "2023-12-24T23:24:00.251682Z"
    },
    "papermill": {
     "duration": 1.656294,
     "end_time": "2023-12-24T23:24:00.256062",
     "exception": false,
     "start_time": "2023-12-24T23:23:58.599768",
     "status": "completed"
    },
    "tags": []
   },
   "outputs": [],
   "source": [
    "import pandas as pd\n",
    "import numpy as np\n",
    "import seaborn as sns\n",
    "import matplotlib.pyplot as plt"
   ]
  },
  {
   "cell_type": "code",
   "execution_count": 2,
   "id": "8a6a4c9e",
   "metadata": {
    "execution": {
     "iopub.execute_input": "2023-12-24T23:24:00.272232Z",
     "iopub.status.busy": "2023-12-24T23:24:00.271662Z",
     "iopub.status.idle": "2023-12-24T23:24:00.330328Z",
     "shell.execute_reply": "2023-12-24T23:24:00.328954Z"
    },
    "papermill": {
     "duration": 0.06955,
     "end_time": "2023-12-24T23:24:00.332828",
     "exception": false,
     "start_time": "2023-12-24T23:24:00.263278",
     "status": "completed"
    },
    "tags": []
   },
   "outputs": [],
   "source": [
    "df = pd.read_csv('waze_dataset.csv')"
   ]
  },
  {
   "cell_type": "code",
   "execution_count": 3,
   "id": "978d30dc",
   "metadata": {
    "execution": {
     "iopub.execute_input": "2023-12-24T23:24:00.348855Z",
     "iopub.status.busy": "2023-12-24T23:24:00.347340Z",
     "iopub.status.idle": "2023-12-24T23:24:00.381756Z",
     "shell.execute_reply": "2023-12-24T23:24:00.380058Z"
    },
    "papermill": {
     "duration": 0.04445,
     "end_time": "2023-12-24T23:24:00.384070",
     "exception": false,
     "start_time": "2023-12-24T23:24:00.339620",
     "status": "completed"
    },
    "tags": []
   },
   "outputs": [
    {
     "data": {
      "text/html": [
       "<div>\n",
       "<style scoped>\n",
       "    .dataframe tbody tr th:only-of-type {\n",
       "        vertical-align: middle;\n",
       "    }\n",
       "\n",
       "    .dataframe tbody tr th {\n",
       "        vertical-align: top;\n",
       "    }\n",
       "\n",
       "    .dataframe thead th {\n",
       "        text-align: right;\n",
       "    }\n",
       "</style>\n",
       "<table border=\"1\" class=\"dataframe\">\n",
       "  <thead>\n",
       "    <tr style=\"text-align: right;\">\n",
       "      <th></th>\n",
       "      <th>ID</th>\n",
       "      <th>label</th>\n",
       "      <th>sessions</th>\n",
       "      <th>drives</th>\n",
       "      <th>total_sessions</th>\n",
       "      <th>n_days_after_onboarding</th>\n",
       "      <th>total_navigations_fav1</th>\n",
       "      <th>total_navigations_fav2</th>\n",
       "      <th>driven_km_drives</th>\n",
       "      <th>duration_minutes_drives</th>\n",
       "      <th>activity_days</th>\n",
       "      <th>driving_days</th>\n",
       "      <th>device</th>\n",
       "    </tr>\n",
       "  </thead>\n",
       "  <tbody>\n",
       "    <tr>\n",
       "      <th>0</th>\n",
       "      <td>0</td>\n",
       "      <td>retained</td>\n",
       "      <td>283</td>\n",
       "      <td>226</td>\n",
       "      <td>296.748273</td>\n",
       "      <td>2276</td>\n",
       "      <td>208</td>\n",
       "      <td>0</td>\n",
       "      <td>2628.845068</td>\n",
       "      <td>1985.775061</td>\n",
       "      <td>28</td>\n",
       "      <td>19</td>\n",
       "      <td>Android</td>\n",
       "    </tr>\n",
       "    <tr>\n",
       "      <th>1</th>\n",
       "      <td>1</td>\n",
       "      <td>retained</td>\n",
       "      <td>133</td>\n",
       "      <td>107</td>\n",
       "      <td>326.896596</td>\n",
       "      <td>1225</td>\n",
       "      <td>19</td>\n",
       "      <td>64</td>\n",
       "      <td>13715.920550</td>\n",
       "      <td>3160.472914</td>\n",
       "      <td>13</td>\n",
       "      <td>11</td>\n",
       "      <td>iPhone</td>\n",
       "    </tr>\n",
       "    <tr>\n",
       "      <th>2</th>\n",
       "      <td>2</td>\n",
       "      <td>retained</td>\n",
       "      <td>114</td>\n",
       "      <td>95</td>\n",
       "      <td>135.522926</td>\n",
       "      <td>2651</td>\n",
       "      <td>0</td>\n",
       "      <td>0</td>\n",
       "      <td>3059.148818</td>\n",
       "      <td>1610.735904</td>\n",
       "      <td>14</td>\n",
       "      <td>8</td>\n",
       "      <td>Android</td>\n",
       "    </tr>\n",
       "    <tr>\n",
       "      <th>3</th>\n",
       "      <td>3</td>\n",
       "      <td>retained</td>\n",
       "      <td>49</td>\n",
       "      <td>40</td>\n",
       "      <td>67.589221</td>\n",
       "      <td>15</td>\n",
       "      <td>322</td>\n",
       "      <td>7</td>\n",
       "      <td>913.591123</td>\n",
       "      <td>587.196542</td>\n",
       "      <td>7</td>\n",
       "      <td>3</td>\n",
       "      <td>iPhone</td>\n",
       "    </tr>\n",
       "    <tr>\n",
       "      <th>4</th>\n",
       "      <td>4</td>\n",
       "      <td>retained</td>\n",
       "      <td>84</td>\n",
       "      <td>68</td>\n",
       "      <td>168.247020</td>\n",
       "      <td>1562</td>\n",
       "      <td>166</td>\n",
       "      <td>5</td>\n",
       "      <td>3950.202008</td>\n",
       "      <td>1219.555924</td>\n",
       "      <td>27</td>\n",
       "      <td>18</td>\n",
       "      <td>Android</td>\n",
       "    </tr>\n",
       "    <tr>\n",
       "      <th>5</th>\n",
       "      <td>5</td>\n",
       "      <td>retained</td>\n",
       "      <td>113</td>\n",
       "      <td>103</td>\n",
       "      <td>279.544437</td>\n",
       "      <td>2637</td>\n",
       "      <td>0</td>\n",
       "      <td>0</td>\n",
       "      <td>901.238699</td>\n",
       "      <td>439.101397</td>\n",
       "      <td>15</td>\n",
       "      <td>11</td>\n",
       "      <td>iPhone</td>\n",
       "    </tr>\n",
       "    <tr>\n",
       "      <th>6</th>\n",
       "      <td>6</td>\n",
       "      <td>retained</td>\n",
       "      <td>3</td>\n",
       "      <td>2</td>\n",
       "      <td>236.725314</td>\n",
       "      <td>360</td>\n",
       "      <td>185</td>\n",
       "      <td>18</td>\n",
       "      <td>5249.172828</td>\n",
       "      <td>726.577205</td>\n",
       "      <td>28</td>\n",
       "      <td>23</td>\n",
       "      <td>iPhone</td>\n",
       "    </tr>\n",
       "    <tr>\n",
       "      <th>7</th>\n",
       "      <td>7</td>\n",
       "      <td>retained</td>\n",
       "      <td>39</td>\n",
       "      <td>35</td>\n",
       "      <td>176.072845</td>\n",
       "      <td>2999</td>\n",
       "      <td>0</td>\n",
       "      <td>0</td>\n",
       "      <td>7892.052468</td>\n",
       "      <td>2466.981741</td>\n",
       "      <td>22</td>\n",
       "      <td>20</td>\n",
       "      <td>iPhone</td>\n",
       "    </tr>\n",
       "    <tr>\n",
       "      <th>8</th>\n",
       "      <td>8</td>\n",
       "      <td>retained</td>\n",
       "      <td>57</td>\n",
       "      <td>46</td>\n",
       "      <td>183.532018</td>\n",
       "      <td>424</td>\n",
       "      <td>0</td>\n",
       "      <td>26</td>\n",
       "      <td>2651.709764</td>\n",
       "      <td>1594.342984</td>\n",
       "      <td>25</td>\n",
       "      <td>20</td>\n",
       "      <td>Android</td>\n",
       "    </tr>\n",
       "    <tr>\n",
       "      <th>9</th>\n",
       "      <td>9</td>\n",
       "      <td>churned</td>\n",
       "      <td>84</td>\n",
       "      <td>68</td>\n",
       "      <td>244.802115</td>\n",
       "      <td>2997</td>\n",
       "      <td>72</td>\n",
       "      <td>0</td>\n",
       "      <td>6043.460295</td>\n",
       "      <td>2341.838528</td>\n",
       "      <td>7</td>\n",
       "      <td>3</td>\n",
       "      <td>iPhone</td>\n",
       "    </tr>\n",
       "  </tbody>\n",
       "</table>\n",
       "</div>"
      ],
      "text/plain": [
       "   ID     label  sessions  drives  total_sessions  n_days_after_onboarding  \\\n",
       "0   0  retained       283     226      296.748273                     2276   \n",
       "1   1  retained       133     107      326.896596                     1225   \n",
       "2   2  retained       114      95      135.522926                     2651   \n",
       "3   3  retained        49      40       67.589221                       15   \n",
       "4   4  retained        84      68      168.247020                     1562   \n",
       "5   5  retained       113     103      279.544437                     2637   \n",
       "6   6  retained         3       2      236.725314                      360   \n",
       "7   7  retained        39      35      176.072845                     2999   \n",
       "8   8  retained        57      46      183.532018                      424   \n",
       "9   9   churned        84      68      244.802115                     2997   \n",
       "\n",
       "   total_navigations_fav1  total_navigations_fav2  driven_km_drives  \\\n",
       "0                     208                       0       2628.845068   \n",
       "1                      19                      64      13715.920550   \n",
       "2                       0                       0       3059.148818   \n",
       "3                     322                       7        913.591123   \n",
       "4                     166                       5       3950.202008   \n",
       "5                       0                       0        901.238699   \n",
       "6                     185                      18       5249.172828   \n",
       "7                       0                       0       7892.052468   \n",
       "8                       0                      26       2651.709764   \n",
       "9                      72                       0       6043.460295   \n",
       "\n",
       "   duration_minutes_drives  activity_days  driving_days   device  \n",
       "0              1985.775061             28            19  Android  \n",
       "1              3160.472914             13            11   iPhone  \n",
       "2              1610.735904             14             8  Android  \n",
       "3               587.196542              7             3   iPhone  \n",
       "4              1219.555924             27            18  Android  \n",
       "5               439.101397             15            11   iPhone  \n",
       "6               726.577205             28            23   iPhone  \n",
       "7              2466.981741             22            20   iPhone  \n",
       "8              1594.342984             25            20  Android  \n",
       "9              2341.838528              7             3   iPhone  "
      ]
     },
     "execution_count": 3,
     "metadata": {},
     "output_type": "execute_result"
    }
   ],
   "source": [
    "df.head(10)"
   ]
  },
  {
   "cell_type": "code",
   "execution_count": 4,
   "id": "456006d4",
   "metadata": {
    "execution": {
     "iopub.execute_input": "2023-12-24T23:24:00.400197Z",
     "iopub.status.busy": "2023-12-24T23:24:00.399816Z",
     "iopub.status.idle": "2023-12-24T23:24:00.582176Z",
     "shell.execute_reply": "2023-12-24T23:24:00.580471Z"
    },
    "papermill": {
     "duration": 0.193641,
     "end_time": "2023-12-24T23:24:00.584791",
     "exception": false,
     "start_time": "2023-12-24T23:24:00.391150",
     "status": "completed"
    },
    "tags": []
   },
   "outputs": [
    {
     "data": {
      "text/html": [
       "<div>\n",
       "<style scoped>\n",
       "    .dataframe tbody tr th:only-of-type {\n",
       "        vertical-align: middle;\n",
       "    }\n",
       "\n",
       "    .dataframe tbody tr th {\n",
       "        vertical-align: top;\n",
       "    }\n",
       "\n",
       "    .dataframe thead th {\n",
       "        text-align: right;\n",
       "    }\n",
       "</style>\n",
       "<table border=\"1\" class=\"dataframe\">\n",
       "  <thead>\n",
       "    <tr style=\"text-align: right;\">\n",
       "      <th></th>\n",
       "      <th>ID</th>\n",
       "      <th>label</th>\n",
       "      <th>sessions</th>\n",
       "      <th>drives</th>\n",
       "      <th>total_sessions</th>\n",
       "      <th>n_days_after_onboarding</th>\n",
       "      <th>total_navigations_fav1</th>\n",
       "      <th>total_navigations_fav2</th>\n",
       "      <th>driven_km_drives</th>\n",
       "      <th>duration_minutes_drives</th>\n",
       "      <th>activity_days</th>\n",
       "      <th>driving_days</th>\n",
       "      <th>device</th>\n",
       "    </tr>\n",
       "  </thead>\n",
       "  <tbody>\n",
       "    <tr>\n",
       "      <th>count</th>\n",
       "      <td>14999.000000</td>\n",
       "      <td>14299</td>\n",
       "      <td>14999.000000</td>\n",
       "      <td>14999.000000</td>\n",
       "      <td>14999.000000</td>\n",
       "      <td>14999.000000</td>\n",
       "      <td>14999.000000</td>\n",
       "      <td>14999.000000</td>\n",
       "      <td>14999.000000</td>\n",
       "      <td>14999.000000</td>\n",
       "      <td>14999.000000</td>\n",
       "      <td>14999.000000</td>\n",
       "      <td>14999</td>\n",
       "    </tr>\n",
       "    <tr>\n",
       "      <th>unique</th>\n",
       "      <td>NaN</td>\n",
       "      <td>2</td>\n",
       "      <td>NaN</td>\n",
       "      <td>NaN</td>\n",
       "      <td>NaN</td>\n",
       "      <td>NaN</td>\n",
       "      <td>NaN</td>\n",
       "      <td>NaN</td>\n",
       "      <td>NaN</td>\n",
       "      <td>NaN</td>\n",
       "      <td>NaN</td>\n",
       "      <td>NaN</td>\n",
       "      <td>2</td>\n",
       "    </tr>\n",
       "    <tr>\n",
       "      <th>top</th>\n",
       "      <td>NaN</td>\n",
       "      <td>retained</td>\n",
       "      <td>NaN</td>\n",
       "      <td>NaN</td>\n",
       "      <td>NaN</td>\n",
       "      <td>NaN</td>\n",
       "      <td>NaN</td>\n",
       "      <td>NaN</td>\n",
       "      <td>NaN</td>\n",
       "      <td>NaN</td>\n",
       "      <td>NaN</td>\n",
       "      <td>NaN</td>\n",
       "      <td>iPhone</td>\n",
       "    </tr>\n",
       "    <tr>\n",
       "      <th>freq</th>\n",
       "      <td>NaN</td>\n",
       "      <td>11763</td>\n",
       "      <td>NaN</td>\n",
       "      <td>NaN</td>\n",
       "      <td>NaN</td>\n",
       "      <td>NaN</td>\n",
       "      <td>NaN</td>\n",
       "      <td>NaN</td>\n",
       "      <td>NaN</td>\n",
       "      <td>NaN</td>\n",
       "      <td>NaN</td>\n",
       "      <td>NaN</td>\n",
       "      <td>9672</td>\n",
       "    </tr>\n",
       "    <tr>\n",
       "      <th>mean</th>\n",
       "      <td>7499.000000</td>\n",
       "      <td>NaN</td>\n",
       "      <td>80.633776</td>\n",
       "      <td>67.281152</td>\n",
       "      <td>189.964447</td>\n",
       "      <td>1749.837789</td>\n",
       "      <td>121.605974</td>\n",
       "      <td>29.672512</td>\n",
       "      <td>4039.340921</td>\n",
       "      <td>1860.976012</td>\n",
       "      <td>15.537102</td>\n",
       "      <td>12.179879</td>\n",
       "      <td>NaN</td>\n",
       "    </tr>\n",
       "    <tr>\n",
       "      <th>std</th>\n",
       "      <td>4329.982679</td>\n",
       "      <td>NaN</td>\n",
       "      <td>80.699065</td>\n",
       "      <td>65.913872</td>\n",
       "      <td>136.405128</td>\n",
       "      <td>1008.513876</td>\n",
       "      <td>148.121544</td>\n",
       "      <td>45.394651</td>\n",
       "      <td>2502.149334</td>\n",
       "      <td>1446.702288</td>\n",
       "      <td>9.004655</td>\n",
       "      <td>7.824036</td>\n",
       "      <td>NaN</td>\n",
       "    </tr>\n",
       "    <tr>\n",
       "      <th>min</th>\n",
       "      <td>0.000000</td>\n",
       "      <td>NaN</td>\n",
       "      <td>0.000000</td>\n",
       "      <td>0.000000</td>\n",
       "      <td>0.220211</td>\n",
       "      <td>4.000000</td>\n",
       "      <td>0.000000</td>\n",
       "      <td>0.000000</td>\n",
       "      <td>60.441250</td>\n",
       "      <td>18.282082</td>\n",
       "      <td>0.000000</td>\n",
       "      <td>0.000000</td>\n",
       "      <td>NaN</td>\n",
       "    </tr>\n",
       "    <tr>\n",
       "      <th>25%</th>\n",
       "      <td>3749.500000</td>\n",
       "      <td>NaN</td>\n",
       "      <td>23.000000</td>\n",
       "      <td>20.000000</td>\n",
       "      <td>90.661156</td>\n",
       "      <td>878.000000</td>\n",
       "      <td>9.000000</td>\n",
       "      <td>0.000000</td>\n",
       "      <td>2212.600607</td>\n",
       "      <td>835.996260</td>\n",
       "      <td>8.000000</td>\n",
       "      <td>5.000000</td>\n",
       "      <td>NaN</td>\n",
       "    </tr>\n",
       "    <tr>\n",
       "      <th>50%</th>\n",
       "      <td>7499.000000</td>\n",
       "      <td>NaN</td>\n",
       "      <td>56.000000</td>\n",
       "      <td>48.000000</td>\n",
       "      <td>159.568115</td>\n",
       "      <td>1741.000000</td>\n",
       "      <td>71.000000</td>\n",
       "      <td>9.000000</td>\n",
       "      <td>3493.858085</td>\n",
       "      <td>1478.249859</td>\n",
       "      <td>16.000000</td>\n",
       "      <td>12.000000</td>\n",
       "      <td>NaN</td>\n",
       "    </tr>\n",
       "    <tr>\n",
       "      <th>75%</th>\n",
       "      <td>11248.500000</td>\n",
       "      <td>NaN</td>\n",
       "      <td>112.000000</td>\n",
       "      <td>93.000000</td>\n",
       "      <td>254.192341</td>\n",
       "      <td>2623.500000</td>\n",
       "      <td>178.000000</td>\n",
       "      <td>43.000000</td>\n",
       "      <td>5289.861262</td>\n",
       "      <td>2464.362632</td>\n",
       "      <td>23.000000</td>\n",
       "      <td>19.000000</td>\n",
       "      <td>NaN</td>\n",
       "    </tr>\n",
       "    <tr>\n",
       "      <th>max</th>\n",
       "      <td>14998.000000</td>\n",
       "      <td>NaN</td>\n",
       "      <td>743.000000</td>\n",
       "      <td>596.000000</td>\n",
       "      <td>1216.154633</td>\n",
       "      <td>3500.000000</td>\n",
       "      <td>1236.000000</td>\n",
       "      <td>415.000000</td>\n",
       "      <td>21183.401890</td>\n",
       "      <td>15851.727160</td>\n",
       "      <td>31.000000</td>\n",
       "      <td>30.000000</td>\n",
       "      <td>NaN</td>\n",
       "    </tr>\n",
       "  </tbody>\n",
       "</table>\n",
       "</div>"
      ],
      "text/plain": [
       "                  ID     label      sessions        drives  total_sessions  \\\n",
       "count   14999.000000     14299  14999.000000  14999.000000    14999.000000   \n",
       "unique           NaN         2           NaN           NaN             NaN   \n",
       "top              NaN  retained           NaN           NaN             NaN   \n",
       "freq             NaN     11763           NaN           NaN             NaN   \n",
       "mean     7499.000000       NaN     80.633776     67.281152      189.964447   \n",
       "std      4329.982679       NaN     80.699065     65.913872      136.405128   \n",
       "min         0.000000       NaN      0.000000      0.000000        0.220211   \n",
       "25%      3749.500000       NaN     23.000000     20.000000       90.661156   \n",
       "50%      7499.000000       NaN     56.000000     48.000000      159.568115   \n",
       "75%     11248.500000       NaN    112.000000     93.000000      254.192341   \n",
       "max     14998.000000       NaN    743.000000    596.000000     1216.154633   \n",
       "\n",
       "        n_days_after_onboarding  total_navigations_fav1  \\\n",
       "count              14999.000000            14999.000000   \n",
       "unique                      NaN                     NaN   \n",
       "top                         NaN                     NaN   \n",
       "freq                        NaN                     NaN   \n",
       "mean                1749.837789              121.605974   \n",
       "std                 1008.513876              148.121544   \n",
       "min                    4.000000                0.000000   \n",
       "25%                  878.000000                9.000000   \n",
       "50%                 1741.000000               71.000000   \n",
       "75%                 2623.500000              178.000000   \n",
       "max                 3500.000000             1236.000000   \n",
       "\n",
       "        total_navigations_fav2  driven_km_drives  duration_minutes_drives  \\\n",
       "count             14999.000000      14999.000000             14999.000000   \n",
       "unique                     NaN               NaN                      NaN   \n",
       "top                        NaN               NaN                      NaN   \n",
       "freq                       NaN               NaN                      NaN   \n",
       "mean                 29.672512       4039.340921              1860.976012   \n",
       "std                  45.394651       2502.149334              1446.702288   \n",
       "min                   0.000000         60.441250                18.282082   \n",
       "25%                   0.000000       2212.600607               835.996260   \n",
       "50%                   9.000000       3493.858085              1478.249859   \n",
       "75%                  43.000000       5289.861262              2464.362632   \n",
       "max                 415.000000      21183.401890             15851.727160   \n",
       "\n",
       "        activity_days  driving_days  device  \n",
       "count    14999.000000  14999.000000   14999  \n",
       "unique            NaN           NaN       2  \n",
       "top               NaN           NaN  iPhone  \n",
       "freq              NaN           NaN    9672  \n",
       "mean        15.537102     12.179879     NaN  \n",
       "std          9.004655      7.824036     NaN  \n",
       "min          0.000000      0.000000     NaN  \n",
       "25%          8.000000      5.000000     NaN  \n",
       "50%         16.000000     12.000000     NaN  \n",
       "75%         23.000000     19.000000     NaN  \n",
       "max         31.000000     30.000000     NaN  "
      ]
     },
     "execution_count": 4,
     "metadata": {},
     "output_type": "execute_result"
    }
   ],
   "source": [
    "df.describe(include='all')"
   ]
  },
  {
   "cell_type": "code",
   "execution_count": 5,
   "id": "094ae662",
   "metadata": {
    "execution": {
     "iopub.execute_input": "2023-12-24T23:24:00.601653Z",
     "iopub.status.busy": "2023-12-24T23:24:00.601218Z",
     "iopub.status.idle": "2023-12-24T23:24:00.624980Z",
     "shell.execute_reply": "2023-12-24T23:24:00.622783Z"
    },
    "papermill": {
     "duration": 0.03562,
     "end_time": "2023-12-24T23:24:00.627643",
     "exception": false,
     "start_time": "2023-12-24T23:24:00.592023",
     "status": "completed"
    },
    "tags": []
   },
   "outputs": [
    {
     "name": "stdout",
     "output_type": "stream",
     "text": [
      "<class 'pandas.core.frame.DataFrame'>\n",
      "RangeIndex: 14999 entries, 0 to 14998\n",
      "Data columns (total 13 columns):\n",
      " #   Column                   Non-Null Count  Dtype  \n",
      "---  ------                   --------------  -----  \n",
      " 0   ID                       14999 non-null  int64  \n",
      " 1   label                    14299 non-null  object \n",
      " 2   sessions                 14999 non-null  int64  \n",
      " 3   drives                   14999 non-null  int64  \n",
      " 4   total_sessions           14999 non-null  float64\n",
      " 5   n_days_after_onboarding  14999 non-null  int64  \n",
      " 6   total_navigations_fav1   14999 non-null  int64  \n",
      " 7   total_navigations_fav2   14999 non-null  int64  \n",
      " 8   driven_km_drives         14999 non-null  float64\n",
      " 9   duration_minutes_drives  14999 non-null  float64\n",
      " 10  activity_days            14999 non-null  int64  \n",
      " 11  driving_days             14999 non-null  int64  \n",
      " 12  device                   14999 non-null  object \n",
      "dtypes: float64(3), int64(8), object(2)\n",
      "memory usage: 1.5+ MB\n"
     ]
    }
   ],
   "source": [
    "df.info()"
   ]
  },
  {
   "cell_type": "code",
   "execution_count": 6,
   "id": "131252aa",
   "metadata": {
    "execution": {
     "iopub.execute_input": "2023-12-24T23:24:00.644683Z",
     "iopub.status.busy": "2023-12-24T23:24:00.643905Z",
     "iopub.status.idle": "2023-12-24T23:24:00.655277Z",
     "shell.execute_reply": "2023-12-24T23:24:00.654054Z"
    },
    "papermill": {
     "duration": 0.022661,
     "end_time": "2023-12-24T23:24:00.657660",
     "exception": false,
     "start_time": "2023-12-24T23:24:00.634999",
     "status": "completed"
    },
    "tags": []
   },
   "outputs": [
    {
     "data": {
      "text/plain": [
       "ID                         14999\n",
       "label                      14999\n",
       "sessions                   14999\n",
       "drives                     14999\n",
       "total_sessions             14999\n",
       "n_days_after_onboarding    14999\n",
       "total_navigations_fav1     14999\n",
       "total_navigations_fav2     14999\n",
       "driven_km_drives           14999\n",
       "duration_minutes_drives    14999\n",
       "activity_days              14999\n",
       "driving_days               14999\n",
       "device                     14999\n",
       "dtype: int64"
      ]
     },
     "execution_count": 6,
     "metadata": {},
     "output_type": "execute_result"
    }
   ],
   "source": [
    "df.isnull().count()"
   ]
  },
  {
   "cell_type": "code",
   "execution_count": 7,
   "id": "a9bed508",
   "metadata": {
    "execution": {
     "iopub.execute_input": "2023-12-24T23:24:00.675987Z",
     "iopub.status.busy": "2023-12-24T23:24:00.674262Z",
     "iopub.status.idle": "2023-12-24T23:24:00.696042Z",
     "shell.execute_reply": "2023-12-24T23:24:00.694348Z"
    },
    "papermill": {
     "duration": 0.033046,
     "end_time": "2023-12-24T23:24:00.698493",
     "exception": false,
     "start_time": "2023-12-24T23:24:00.665447",
     "status": "completed"
    },
    "tags": []
   },
   "outputs": [
    {
     "data": {
      "text/plain": [
       "ID                         0\n",
       "label                      0\n",
       "sessions                   0\n",
       "drives                     0\n",
       "total_sessions             0\n",
       "n_days_after_onboarding    0\n",
       "total_navigations_fav1     0\n",
       "total_navigations_fav2     0\n",
       "driven_km_drives           0\n",
       "duration_minutes_drives    0\n",
       "activity_days              0\n",
       "driving_days               0\n",
       "device                     0\n",
       "dtype: int64"
      ]
     },
     "execution_count": 7,
     "metadata": {},
     "output_type": "execute_result"
    }
   ],
   "source": [
    "df.isin(['?']).sum()"
   ]
  },
  {
   "cell_type": "code",
   "execution_count": 8,
   "id": "c16a2e22",
   "metadata": {
    "execution": {
     "iopub.execute_input": "2023-12-24T23:24:00.716558Z",
     "iopub.status.busy": "2023-12-24T23:24:00.716169Z",
     "iopub.status.idle": "2023-12-24T23:24:00.723500Z",
     "shell.execute_reply": "2023-12-24T23:24:00.722174Z"
    },
    "papermill": {
     "duration": 0.018807,
     "end_time": "2023-12-24T23:24:00.725489",
     "exception": false,
     "start_time": "2023-12-24T23:24:00.706682",
     "status": "completed"
    },
    "tags": []
   },
   "outputs": [
    {
     "data": {
      "text/plain": [
       "Index(['ID', 'label', 'sessions', 'drives', 'total_sessions',\n",
       "       'n_days_after_onboarding', 'total_navigations_fav1',\n",
       "       'total_navigations_fav2', 'driven_km_drives', 'duration_minutes_drives',\n",
       "       'activity_days', 'driving_days', 'device'],\n",
       "      dtype='object')"
      ]
     },
     "execution_count": 8,
     "metadata": {},
     "output_type": "execute_result"
    }
   ],
   "source": [
    "df.columns"
   ]
  },
  {
   "cell_type": "code",
   "execution_count": 9,
   "id": "ee2f9522",
   "metadata": {
    "execution": {
     "iopub.execute_input": "2023-12-24T23:24:00.743468Z",
     "iopub.status.busy": "2023-12-24T23:24:00.742928Z",
     "iopub.status.idle": "2023-12-24T23:24:00.751187Z",
     "shell.execute_reply": "2023-12-24T23:24:00.749654Z"
    },
    "papermill": {
     "duration": 0.020035,
     "end_time": "2023-12-24T23:24:00.753398",
     "exception": false,
     "start_time": "2023-12-24T23:24:00.733363",
     "status": "completed"
    },
    "tags": []
   },
   "outputs": [
    {
     "data": {
      "text/plain": [
       "array(['Android', 'iPhone'], dtype=object)"
      ]
     },
     "execution_count": 9,
     "metadata": {},
     "output_type": "execute_result"
    }
   ],
   "source": [
    "df['device'].unique()"
   ]
  },
  {
   "cell_type": "code",
   "execution_count": 10,
   "id": "a44deb1b",
   "metadata": {
    "execution": {
     "iopub.execute_input": "2023-12-24T23:24:00.771296Z",
     "iopub.status.busy": "2023-12-24T23:24:00.770928Z",
     "iopub.status.idle": "2023-12-24T23:24:00.943522Z",
     "shell.execute_reply": "2023-12-24T23:24:00.942600Z"
    },
    "papermill": {
     "duration": 0.183824,
     "end_time": "2023-12-24T23:24:00.945462",
     "exception": false,
     "start_time": "2023-12-24T23:24:00.761638",
     "status": "completed"
    },
    "tags": []
   },
   "outputs": [
    {
     "data": {
      "text/plain": [
       "Text(0.5, 1.0, 'box for kms')"
      ]
     },
     "execution_count": 10,
     "metadata": {},
     "output_type": "execute_result"
    },
    {
     "data": {
      "image/png": "[encoded data removed]",
      "text/plain": [
       "<Figure size 1000x300 with 1 Axes>"
      ]
     },
     "metadata": {},
     "output_type": "display_data"
    }
   ],
   "source": [
    "plt.figure(figsize=(10,3))\n",
    "sns.boxplot(x=df['driven_km_drives'])\n",
    "plt.title('box for kms')"
   ]
  },
  {
   "cell_type": "code",
   "execution_count": 11,
   "id": "dbeb8f47",
   "metadata": {
    "execution": {
     "iopub.execute_input": "2023-12-24T23:24:00.965652Z",
     "iopub.status.busy": "2023-12-24T23:24:00.964654Z",
     "iopub.status.idle": "2023-12-24T23:24:02.037311Z",
     "shell.execute_reply": "2023-12-24T23:24:02.036063Z"
    },
    "papermill": {
     "duration": 1.085351,
     "end_time": "2023-12-24T23:24:02.039413",
     "exception": false,
     "start_time": "2023-12-24T23:24:00.954062",
     "status": "completed"
    },
    "tags": []
   },
   "outputs": [
    {
     "data": {
      "text/plain": [
       "<Axes: xlabel='driving_days', ylabel='driven_km_drives'>"
      ]
     },
     "execution_count": 11,
     "metadata": {},
     "output_type": "execute_result"
    },
    {
     "data": {
      "image/png": "[encoded data removed]",
      "text/plain": [
       "<Figure size 1000x600 with 1 Axes>"
      ]
     },
     "metadata": {},
     "output_type": "display_data"
    }
   ],
   "source": [
    "plt.figure(figsize=(10,6))\n",
    "sns.barplot(data=df,\n",
    "            x='driving_days',\n",
    "            y='driven_km_drives')\n"
   ]
  },
  {
   "cell_type": "code",
   "execution_count": 12,
   "id": "a814681a",
   "metadata": {
    "execution": {
     "iopub.execute_input": "2023-12-24T23:24:02.058109Z",
     "iopub.status.busy": "2023-12-24T23:24:02.057730Z",
     "iopub.status.idle": "2023-12-24T23:24:02.207772Z",
     "shell.execute_reply": "2023-12-24T23:24:02.206861Z"
    },
    "papermill": {
     "duration": 0.161516,
     "end_time": "2023-12-24T23:24:02.209716",
     "exception": false,
     "start_time": "2023-12-24T23:24:02.048200",
     "status": "completed"
    },
    "tags": []
   },
   "outputs": [
    {
     "data": {
      "text/plain": [
       "<Axes: title={'center': 'days actice'}, xlabel='sessions'>"
      ]
     },
     "execution_count": 12,
     "metadata": {},
     "output_type": "execute_result"
    },
    {
     "data": {
      "image/png": "[encoded data removed]",
      "text/plain": [
       "<Figure size 700x300 with 1 Axes>"
      ]
     },
     "metadata": {},
     "output_type": "display_data"
    }
   ],
   "source": [
    "plt.figure(figsize=(7,3))\n",
    "plt.title('days actice')\n",
    "sns.boxplot(x=df['sessions'])\n"
   ]
  },
  {
   "cell_type": "code",
   "execution_count": 13,
   "id": "7b74c734",
   "metadata": {
    "execution": {
     "iopub.execute_input": "2023-12-24T23:24:02.229369Z",
     "iopub.status.busy": "2023-12-24T23:24:02.229021Z",
     "iopub.status.idle": "2023-12-24T23:24:02.361402Z",
     "shell.execute_reply": "2023-12-24T23:24:02.360528Z"
    },
    "papermill": {
     "duration": 0.144107,
     "end_time": "2023-12-24T23:24:02.363157",
     "exception": false,
     "start_time": "2023-12-24T23:24:02.219050",
     "status": "completed"
    },
    "tags": []
   },
   "outputs": [
    {
     "data": {
      "text/plain": [
       "<Axes: title={'center': 'no. of drives'}, xlabel='drives'>"
      ]
     },
     "execution_count": 13,
     "metadata": {},
     "output_type": "execute_result"
    },
    {
     "data": {
      "image/png": "[encoded data removed]",
      "text/plain": [
       "<Figure size 700x300 with 1 Axes>"
      ]
     },
     "metadata": {},
     "output_type": "display_data"
    }
   ],
   "source": [
    "plt.figure(figsize=(7,3))\n",
    "plt.title('no. of drives')\n",
    "sns.boxplot(x=df['drives'])"
   ]
  },
  {
   "cell_type": "code",
   "execution_count": 14,
   "id": "1afe05a4",
   "metadata": {
    "execution": {
     "iopub.execute_input": "2023-12-24T23:24:02.382658Z",
     "iopub.status.busy": "2023-12-24T23:24:02.382130Z",
     "iopub.status.idle": "2023-12-24T23:24:02.514581Z",
     "shell.execute_reply": "2023-12-24T23:24:02.513685Z"
    },
    "papermill": {
     "duration": 0.144392,
     "end_time": "2023-12-24T23:24:02.516382",
     "exception": false,
     "start_time": "2023-12-24T23:24:02.371990",
     "status": "completed"
    },
    "tags": []
   },
   "outputs": [
    {
     "data": {
      "text/plain": [
       "<Axes: title={'center': 'usage'}, xlabel='total_sessions'>"
      ]
     },
     "execution_count": 14,
     "metadata": {},
     "output_type": "execute_result"
    },
    {
     "data": {
      "image/png": "[encoded data removed]",
      "text/plain": [
       "<Figure size 700x300 with 1 Axes>"
      ]
     },
     "metadata": {},
     "output_type": "display_data"
    }
   ],
   "source": [
    "plt.figure(figsize=(7,3))\n",
    "plt.title('usage')\n",
    "sns.boxplot(x=df['total_sessions'])\n"
   ]
  },
  {
   "cell_type": "code",
   "execution_count": 15,
   "id": "66c7b8c8",
   "metadata": {
    "execution": {
     "iopub.execute_input": "2023-12-24T23:24:02.539229Z",
     "iopub.status.busy": "2023-12-24T23:24:02.538215Z",
     "iopub.status.idle": "2023-12-24T23:24:02.882235Z",
     "shell.execute_reply": "2023-12-24T23:24:02.879596Z"
    },
    "papermill": {
     "duration": 0.358454,
     "end_time": "2023-12-24T23:24:02.884539",
     "exception": false,
     "start_time": "2023-12-24T23:24:02.526085",
     "status": "completed"
    },
    "tags": []
   },
   "outputs": [
    {
     "data": {
      "text/plain": [
       "<Axes: xlabel='sessions', ylabel='Count'>"
      ]
     },
     "execution_count": 15,
     "metadata": {},
     "output_type": "execute_result"
    },
    {
     "data": {
      "image/png": "[encoded data removed]",
      "text/plain": [
       "<Figure size 1000x600 with 1 Axes>"
      ]
     },
     "metadata": {},
     "output_type": "display_data"
    }
   ],
   "source": [
    "plt.figure(figsize=(10,6))\n",
    "sns.histplot(data=df,\n",
    "             x='sessions',\n",
    "             shrink=0.7)"
   ]
  },
  {
   "cell_type": "code",
   "execution_count": 16,
   "id": "b695c306",
   "metadata": {
    "execution": {
     "iopub.execute_input": "2023-12-24T23:24:02.905760Z",
     "iopub.status.busy": "2023-12-24T23:24:02.905368Z",
     "iopub.status.idle": "2023-12-24T23:24:03.250603Z",
     "shell.execute_reply": "2023-12-24T23:24:03.249887Z"
    },
    "papermill": {
     "duration": 0.35857,
     "end_time": "2023-12-24T23:24:03.253031",
     "exception": false,
     "start_time": "2023-12-24T23:24:02.894461",
     "status": "completed"
    },
    "tags": []
   },
   "outputs": [
    {
     "data": {
      "text/plain": [
       "<Axes: xlabel='drives', ylabel='Count'>"
      ]
     },
     "execution_count": 16,
     "metadata": {},
     "output_type": "execute_result"
    },
    {
     "data": {
      "image/png": "[encoded data removed]",
      "text/plain": [
       "<Figure size 1000x600 with 1 Axes>"
      ]
     },
     "metadata": {},
     "output_type": "display_data"
    }
   ],
   "source": [
    "plt.figure(figsize=(10,6))\n",
    "sns.histplot(data=df,\n",
    "             x='drives',\n",
    "             shrink=0.7)"
   ]
  },
  {
   "cell_type": "code",
   "execution_count": 17,
   "id": "eb94a665",
   "metadata": {
    "execution": {
     "iopub.execute_input": "2023-12-24T23:24:03.276370Z",
     "iopub.status.busy": "2023-12-24T23:24:03.274072Z",
     "iopub.status.idle": "2023-12-24T23:24:03.606281Z",
     "shell.execute_reply": "2023-12-24T23:24:03.604758Z"
    },
    "papermill": {
     "duration": 0.345965,
     "end_time": "2023-12-24T23:24:03.608967",
     "exception": false,
     "start_time": "2023-12-24T23:24:03.263002",
     "status": "completed"
    },
    "tags": []
   },
   "outputs": [
    {
     "data": {
      "text/plain": [
       "<Axes: xlabel='total_sessions', ylabel='Count'>"
      ]
     },
     "execution_count": 17,
     "metadata": {},
     "output_type": "execute_result"
    },
    {
     "data": {
      "image/png": "[encoded data removed]",
      "text/plain": [
       "<Figure size 1000x600 with 1 Axes>"
      ]
     },
     "metadata": {},
     "output_type": "display_data"
    }
   ],
   "source": [
    "plt.figure(figsize=(10,6))\n",
    "sns.histplot(data=df,\n",
    "             x='total_sessions',\n",
    "             shrink=0.7)"
   ]
  },
  {
   "cell_type": "code",
   "execution_count": 18,
   "id": "6931e8d0",
   "metadata": {
    "execution": {
     "iopub.execute_input": "2023-12-24T23:24:03.632291Z",
     "iopub.status.busy": "2023-12-24T23:24:03.631957Z",
     "iopub.status.idle": "2023-12-24T23:24:03.639637Z",
     "shell.execute_reply": "2023-12-24T23:24:03.637999Z"
    },
    "papermill": {
     "duration": 0.022103,
     "end_time": "2023-12-24T23:24:03.641619",
     "exception": false,
     "start_time": "2023-12-24T23:24:03.619516",
     "status": "completed"
    },
    "tags": []
   },
   "outputs": [
    {
     "data": {
      "text/plain": [
       "Index(['ID', 'label', 'sessions', 'drives', 'total_sessions',\n",
       "       'n_days_after_onboarding', 'total_navigations_fav1',\n",
       "       'total_navigations_fav2', 'driven_km_drives', 'duration_minutes_drives',\n",
       "       'activity_days', 'driving_days', 'device'],\n",
       "      dtype='object')"
      ]
     },
     "execution_count": 18,
     "metadata": {},
     "output_type": "execute_result"
    }
   ],
   "source": [
    "df.columns"
   ]
  },
  {
   "cell_type": "code",
   "execution_count": 19,
   "id": "ba72b3df",
   "metadata": {
    "execution": {
     "iopub.execute_input": "2023-12-24T23:24:03.664257Z",
     "iopub.status.busy": "2023-12-24T23:24:03.663834Z",
     "iopub.status.idle": "2023-12-24T23:24:03.764502Z",
     "shell.execute_reply": "2023-12-24T23:24:03.763127Z"
    },
    "papermill": {
     "duration": 0.115392,
     "end_time": "2023-12-24T23:24:03.767679",
     "exception": false,
     "start_time": "2023-12-24T23:24:03.652287",
     "status": "completed"
    },
    "tags": []
   },
   "outputs": [
    {
     "data": {
      "image/png": "[encoded data removed]",
      "text/plain": [
       "<Figure size 300x300 with 1 Axes>"
      ]
     },
     "metadata": {},
     "output_type": "display_data"
    }
   ],
   "source": [
    "fig = plt.figure(figsize=(3,3))\n",
    "data=df['device'].value_counts()\n",
    "plt.pie(data,\n",
    "        labels=[f'{data.index[0]}: {data.values[0]}',\n",
    "                f'{data.index[1]}: {data.values[1]}'],\n",
    "        autopct='%1.1f%%'\n",
    "        )\n",
    "plt.title('Users by device');"
   ]
  },
  {
   "cell_type": "code",
   "execution_count": 20,
   "id": "9feb865e",
   "metadata": {
    "execution": {
     "iopub.execute_input": "2023-12-24T23:24:03.792352Z",
     "iopub.status.busy": "2023-12-24T23:24:03.791470Z",
     "iopub.status.idle": "2023-12-24T23:24:03.896554Z",
     "shell.execute_reply": "2023-12-24T23:24:03.895838Z"
    },
    "papermill": {
     "duration": 0.120156,
     "end_time": "2023-12-24T23:24:03.898846",
     "exception": false,
     "start_time": "2023-12-24T23:24:03.778690",
     "status": "completed"
    },
    "tags": []
   },
   "outputs": [
    {
     "data": {
      "image/png": "[encoded data removed]",
      "text/plain": [
       "<Figure size 300x300 with 1 Axes>"
      ]
     },
     "metadata": {},
     "output_type": "display_data"
    }
   ],
   "source": [
    "fig = plt.figure(figsize=(3,3))\n",
    "data=df['label'].value_counts()\n",
    "plt.pie(data,\n",
    "        labels=[f'{data.index[0]}: {data.values[0]}',\n",
    "                f'{data.index[1]}: {data.values[1]}'],\n",
    "        autopct='%1.1f%%'\n",
    "        )\n",
    "plt.title('Count of retained vs. churned');"
   ]
  },
  {
   "cell_type": "code",
   "execution_count": 21,
   "id": "7fbee55e",
   "metadata": {
    "execution": {
     "iopub.execute_input": "2023-12-24T23:24:03.928911Z",
     "iopub.status.busy": "2023-12-24T23:24:03.928244Z",
     "iopub.status.idle": "2023-12-24T23:24:04.297724Z",
     "shell.execute_reply": "2023-12-24T23:24:04.296637Z"
    },
    "papermill": {
     "duration": 0.387064,
     "end_time": "2023-12-24T23:24:04.300221",
     "exception": false,
     "start_time": "2023-12-24T23:24:03.913157",
     "status": "completed"
    },
    "tags": []
   },
   "outputs": [
    {
     "data": {
      "image/png": "[encoded data removed]",
      "text/plain": [
       "<Figure size 1200x400 with 1 Axes>"
      ]
     },
     "metadata": {},
     "output_type": "display_data"
    }
   ],
   "source": [
    "plt.figure(figsize=(12,4))\n",
    "label=['driving days', 'activity days']\n",
    "plt.hist([df['driving_days'], df['activity_days']],\n",
    "         bins=range(0,33),\n",
    "         label=label)\n",
    "plt.xlabel('days')\n",
    "plt.ylabel('count')\n",
    "plt.legend()\n",
    "plt.title('driving_days vs. activity_days');"
   ]
  },
  {
   "cell_type": "code",
   "execution_count": 22,
   "id": "a0553e8a",
   "metadata": {
    "execution": {
     "iopub.execute_input": "2023-12-24T23:24:04.325084Z",
     "iopub.status.busy": "2023-12-24T23:24:04.324619Z",
     "iopub.status.idle": "2023-12-24T23:24:04.330959Z",
     "shell.execute_reply": "2023-12-24T23:24:04.330066Z"
    },
    "papermill": {
     "duration": 0.021872,
     "end_time": "2023-12-24T23:24:04.333349",
     "exception": false,
     "start_time": "2023-12-24T23:24:04.311477",
     "status": "completed"
    },
    "tags": []
   },
   "outputs": [
    {
     "name": "stdout",
     "output_type": "stream",
     "text": [
      "30\n",
      "31\n"
     ]
    }
   ],
   "source": [
    "print(df['driving_days'].max())\n",
    "print(df['activity_days'].max())"
   ]
  },
  {
   "cell_type": "code",
   "execution_count": 23,
   "id": "132fb48f",
   "metadata": {
    "execution": {
     "iopub.execute_input": "2023-12-24T23:24:04.358870Z",
     "iopub.status.busy": "2023-12-24T23:24:04.357803Z",
     "iopub.status.idle": "2023-12-24T23:24:04.656064Z",
     "shell.execute_reply": "2023-12-24T23:24:04.654032Z"
    },
    "papermill": {
     "duration": 0.313212,
     "end_time": "2023-12-24T23:24:04.658562",
     "exception": false,
     "start_time": "2023-12-24T23:24:04.345350",
     "status": "completed"
    },
    "tags": []
   },
   "outputs": [
    {
     "data": {
      "image/png": "[encoded data removed]",
      "text/plain": [
       "<Figure size 640x480 with 1 Axes>"
      ]
     },
     "metadata": {},
     "output_type": "display_data"
    }
   ],
   "source": [
    "sns.scatterplot(data=df, x='driving_days', y='activity_days')\n",
    "plt.title('driving_days vs. activity_days')\n",
    "plt.plot([0,31], [0,31], color='red', linestyle='solid');"
   ]
  },
  {
   "cell_type": "code",
   "execution_count": 24,
   "id": "678482fe",
   "metadata": {
    "execution": {
     "iopub.execute_input": "2023-12-24T23:24:04.684090Z",
     "iopub.status.busy": "2023-12-24T23:24:04.683748Z",
     "iopub.status.idle": "2023-12-24T23:24:04.697950Z",
     "shell.execute_reply": "2023-12-24T23:24:04.696781Z"
    },
    "papermill": {
     "duration": 0.029248,
     "end_time": "2023-12-24T23:24:04.699922",
     "exception": false,
     "start_time": "2023-12-24T23:24:04.670674",
     "status": "completed"
    },
    "tags": []
   },
   "outputs": [
    {
     "data": {
      "text/plain": [
       "count    1.499900e+04\n",
       "mean              inf\n",
       "std               NaN\n",
       "min      3.022063e+00\n",
       "25%      1.672804e+02\n",
       "50%      3.231459e+02\n",
       "75%      7.579257e+02\n",
       "max               inf\n",
       "Name: km_per_driving_day, dtype: float64"
      ]
     },
     "execution_count": 24,
     "metadata": {},
     "output_type": "execute_result"
    }
   ],
   "source": [
    "df['km_per_driving_day'] = df['driven_km_drives'] / df['driving_days']\n",
    "df['km_per_driving_day'].describe()"
   ]
  },
  {
   "cell_type": "code",
   "execution_count": 25,
   "id": "7f53832e",
   "metadata": {
    "execution": {
     "iopub.execute_input": "2023-12-24T23:24:04.778576Z",
     "iopub.status.busy": "2023-12-24T23:24:04.778244Z",
     "iopub.status.idle": "2023-12-24T23:24:04.788603Z",
     "shell.execute_reply": "2023-12-24T23:24:04.787987Z"
    },
    "papermill": {
     "duration": 0.025124,
     "end_time": "2023-12-24T23:24:04.790488",
     "exception": false,
     "start_time": "2023-12-24T23:24:04.765364",
     "status": "completed"
    },
    "tags": []
   },
   "outputs": [
    {
     "data": {
      "text/plain": [
       "count    14999.000000\n",
       "mean       578.963113\n",
       "std       1030.094384\n",
       "min          0.000000\n",
       "25%        136.238895\n",
       "50%        272.889272\n",
       "75%        558.686918\n",
       "max      15420.234110\n",
       "Name: km_per_driving_day, dtype: float64"
      ]
     },
     "execution_count": 25,
     "metadata": {},
     "output_type": "execute_result"
    }
   ],
   "source": [
    "df.loc[df['km_per_driving_day']==np.inf, 'km_per_driving_day'] = 0\n",
    "df['km_per_driving_day'].describe()"
   ]
  },
  {
   "cell_type": "code",
   "execution_count": 26,
   "id": "e6ddb0c9",
   "metadata": {
    "execution": {
     "iopub.execute_input": "2023-12-24T23:24:04.816264Z",
     "iopub.status.busy": "2023-12-24T23:24:04.815839Z",
     "iopub.status.idle": "2023-12-24T23:24:05.504591Z",
     "shell.execute_reply": "2023-12-24T23:24:05.503326Z"
    },
    "papermill": {
     "duration": 0.704555,
     "end_time": "2023-12-24T23:24:05.507179",
     "exception": false,
     "start_time": "2023-12-24T23:24:04.802624",
     "status": "completed"
    },
    "tags": []
   },
   "outputs": [
    {
     "data": {
      "image/png": "[encoded data removed]",
      "text/plain": [
       "<Figure size 1000x500 with 1 Axes>"
      ]
     },
     "metadata": {},
     "output_type": "display_data"
    }
   ],
   "source": [
    "plt.figure(figsize=(10,5))\n",
    "sns.histplot(data=df,\n",
    "             x='km_per_driving_day',\n",
    "             bins=range(0,1201,20),\n",
    "             hue='label',\n",
    "             multiple='fill')\n",
    "plt.ylabel('%', rotation=0)\n",
    "plt.title('Churn rate by mean km per driving day');"
   ]
  },
  {
   "cell_type": "code",
   "execution_count": 27,
   "id": "d175d57d",
   "metadata": {
    "execution": {
     "iopub.execute_input": "2023-12-24T23:24:05.534829Z",
     "iopub.status.busy": "2023-12-24T23:24:05.533553Z",
     "iopub.status.idle": "2023-12-24T23:24:05.942951Z",
     "shell.execute_reply": "2023-12-24T23:24:05.941420Z"
    },
    "papermill": {
     "duration": 0.42596,
     "end_time": "2023-12-24T23:24:05.945609",
     "exception": false,
     "start_time": "2023-12-24T23:24:05.519649",
     "status": "completed"
    },
    "tags": []
   },
   "outputs": [
    {
     "data": {
      "image/png": "[encoded data removed]",
      "text/plain": [
       "<Figure size 1200x500 with 1 Axes>"
      ]
     },
     "metadata": {},
     "output_type": "display_data"
    }
   ],
   "source": [
    "# Histogram\n",
    "plt.figure(figsize=(12,5))\n",
    "sns.histplot(data=df,\n",
    "             x='driving_days',\n",
    "             bins=range(1,32),\n",
    "             hue='label',\n",
    "             multiple='dodge',\n",
    "             shrink=0.7,\n",
    "             discrete=True)\n",
    "plt.ylabel('%', rotation=0)\n",
    "plt.title('Churn rate per driving day');"
   ]
  },
  {
   "cell_type": "code",
   "execution_count": 28,
   "id": "fabcbc37",
   "metadata": {
    "execution": {
     "iopub.execute_input": "2023-12-24T23:24:05.974572Z",
     "iopub.status.busy": "2023-12-24T23:24:05.973510Z",
     "iopub.status.idle": "2023-12-24T23:24:05.979604Z",
     "shell.execute_reply": "2023-12-24T23:24:05.978965Z"
    },
    "papermill": {
     "duration": 0.022907,
     "end_time": "2023-12-24T23:24:05.981496",
     "exception": false,
     "start_time": "2023-12-24T23:24:05.958589",
     "status": "completed"
    },
    "tags": []
   },
   "outputs": [],
   "source": [
    "df['monthly_drives_per_session_ratio'] = (df['drives']/df['sessions'])"
   ]
  },
  {
   "cell_type": "code",
   "execution_count": 29,
   "id": "25414e48",
   "metadata": {
    "execution": {
     "iopub.execute_input": "2023-12-24T23:24:06.008968Z",
     "iopub.status.busy": "2023-12-24T23:24:06.007456Z",
     "iopub.status.idle": "2023-12-24T23:24:06.030202Z",
     "shell.execute_reply": "2023-12-24T23:24:06.029361Z"
    },
    "papermill": {
     "duration": 0.038219,
     "end_time": "2023-12-24T23:24:06.032125",
     "exception": false,
     "start_time": "2023-12-24T23:24:05.993906",
     "status": "completed"
    },
    "tags": []
   },
   "outputs": [
    {
     "data": {
      "text/html": [
       "<div>\n",
       "<style scoped>\n",
       "    .dataframe tbody tr th:only-of-type {\n",
       "        vertical-align: middle;\n",
       "    }\n",
       "\n",
       "    .dataframe tbody tr th {\n",
       "        vertical-align: top;\n",
       "    }\n",
       "\n",
       "    .dataframe thead th {\n",
       "        text-align: right;\n",
       "    }\n",
       "</style>\n",
       "<table border=\"1\" class=\"dataframe\">\n",
       "  <thead>\n",
       "    <tr style=\"text-align: right;\">\n",
       "      <th></th>\n",
       "      <th>ID</th>\n",
       "      <th>label</th>\n",
       "      <th>sessions</th>\n",
       "      <th>drives</th>\n",
       "      <th>total_sessions</th>\n",
       "      <th>n_days_after_onboarding</th>\n",
       "      <th>total_navigations_fav1</th>\n",
       "      <th>total_navigations_fav2</th>\n",
       "      <th>driven_km_drives</th>\n",
       "      <th>duration_minutes_drives</th>\n",
       "      <th>activity_days</th>\n",
       "      <th>driving_days</th>\n",
       "      <th>device</th>\n",
       "      <th>km_per_driving_day</th>\n",
       "      <th>monthly_drives_per_session_ratio</th>\n",
       "    </tr>\n",
       "  </thead>\n",
       "  <tbody>\n",
       "    <tr>\n",
       "      <th>0</th>\n",
       "      <td>0</td>\n",
       "      <td>retained</td>\n",
       "      <td>283</td>\n",
       "      <td>226</td>\n",
       "      <td>296.748273</td>\n",
       "      <td>2276</td>\n",
       "      <td>208</td>\n",
       "      <td>0</td>\n",
       "      <td>2628.845068</td>\n",
       "      <td>1985.775061</td>\n",
       "      <td>28</td>\n",
       "      <td>19</td>\n",
       "      <td>Android</td>\n",
       "      <td>138.360267</td>\n",
       "      <td>0.798587</td>\n",
       "    </tr>\n",
       "    <tr>\n",
       "      <th>1</th>\n",
       "      <td>1</td>\n",
       "      <td>retained</td>\n",
       "      <td>133</td>\n",
       "      <td>107</td>\n",
       "      <td>326.896596</td>\n",
       "      <td>1225</td>\n",
       "      <td>19</td>\n",
       "      <td>64</td>\n",
       "      <td>13715.920550</td>\n",
       "      <td>3160.472914</td>\n",
       "      <td>13</td>\n",
       "      <td>11</td>\n",
       "      <td>iPhone</td>\n",
       "      <td>1246.901868</td>\n",
       "      <td>0.804511</td>\n",
       "    </tr>\n",
       "    <tr>\n",
       "      <th>2</th>\n",
       "      <td>2</td>\n",
       "      <td>retained</td>\n",
       "      <td>114</td>\n",
       "      <td>95</td>\n",
       "      <td>135.522926</td>\n",
       "      <td>2651</td>\n",
       "      <td>0</td>\n",
       "      <td>0</td>\n",
       "      <td>3059.148818</td>\n",
       "      <td>1610.735904</td>\n",
       "      <td>14</td>\n",
       "      <td>8</td>\n",
       "      <td>Android</td>\n",
       "      <td>382.393602</td>\n",
       "      <td>0.833333</td>\n",
       "    </tr>\n",
       "    <tr>\n",
       "      <th>3</th>\n",
       "      <td>3</td>\n",
       "      <td>retained</td>\n",
       "      <td>49</td>\n",
       "      <td>40</td>\n",
       "      <td>67.589221</td>\n",
       "      <td>15</td>\n",
       "      <td>322</td>\n",
       "      <td>7</td>\n",
       "      <td>913.591123</td>\n",
       "      <td>587.196542</td>\n",
       "      <td>7</td>\n",
       "      <td>3</td>\n",
       "      <td>iPhone</td>\n",
       "      <td>304.530374</td>\n",
       "      <td>0.816327</td>\n",
       "    </tr>\n",
       "    <tr>\n",
       "      <th>4</th>\n",
       "      <td>4</td>\n",
       "      <td>retained</td>\n",
       "      <td>84</td>\n",
       "      <td>68</td>\n",
       "      <td>168.247020</td>\n",
       "      <td>1562</td>\n",
       "      <td>166</td>\n",
       "      <td>5</td>\n",
       "      <td>3950.202008</td>\n",
       "      <td>1219.555924</td>\n",
       "      <td>27</td>\n",
       "      <td>18</td>\n",
       "      <td>Android</td>\n",
       "      <td>219.455667</td>\n",
       "      <td>0.809524</td>\n",
       "    </tr>\n",
       "    <tr>\n",
       "      <th>5</th>\n",
       "      <td>5</td>\n",
       "      <td>retained</td>\n",
       "      <td>113</td>\n",
       "      <td>103</td>\n",
       "      <td>279.544437</td>\n",
       "      <td>2637</td>\n",
       "      <td>0</td>\n",
       "      <td>0</td>\n",
       "      <td>901.238699</td>\n",
       "      <td>439.101397</td>\n",
       "      <td>15</td>\n",
       "      <td>11</td>\n",
       "      <td>iPhone</td>\n",
       "      <td>81.930791</td>\n",
       "      <td>0.911504</td>\n",
       "    </tr>\n",
       "    <tr>\n",
       "      <th>6</th>\n",
       "      <td>6</td>\n",
       "      <td>retained</td>\n",
       "      <td>3</td>\n",
       "      <td>2</td>\n",
       "      <td>236.725314</td>\n",
       "      <td>360</td>\n",
       "      <td>185</td>\n",
       "      <td>18</td>\n",
       "      <td>5249.172828</td>\n",
       "      <td>726.577205</td>\n",
       "      <td>28</td>\n",
       "      <td>23</td>\n",
       "      <td>iPhone</td>\n",
       "      <td>228.224906</td>\n",
       "      <td>0.666667</td>\n",
       "    </tr>\n",
       "    <tr>\n",
       "      <th>7</th>\n",
       "      <td>7</td>\n",
       "      <td>retained</td>\n",
       "      <td>39</td>\n",
       "      <td>35</td>\n",
       "      <td>176.072845</td>\n",
       "      <td>2999</td>\n",
       "      <td>0</td>\n",
       "      <td>0</td>\n",
       "      <td>7892.052468</td>\n",
       "      <td>2466.981741</td>\n",
       "      <td>22</td>\n",
       "      <td>20</td>\n",
       "      <td>iPhone</td>\n",
       "      <td>394.602623</td>\n",
       "      <td>0.897436</td>\n",
       "    </tr>\n",
       "    <tr>\n",
       "      <th>8</th>\n",
       "      <td>8</td>\n",
       "      <td>retained</td>\n",
       "      <td>57</td>\n",
       "      <td>46</td>\n",
       "      <td>183.532018</td>\n",
       "      <td>424</td>\n",
       "      <td>0</td>\n",
       "      <td>26</td>\n",
       "      <td>2651.709764</td>\n",
       "      <td>1594.342984</td>\n",
       "      <td>25</td>\n",
       "      <td>20</td>\n",
       "      <td>Android</td>\n",
       "      <td>132.585488</td>\n",
       "      <td>0.807018</td>\n",
       "    </tr>\n",
       "    <tr>\n",
       "      <th>9</th>\n",
       "      <td>9</td>\n",
       "      <td>churned</td>\n",
       "      <td>84</td>\n",
       "      <td>68</td>\n",
       "      <td>244.802115</td>\n",
       "      <td>2997</td>\n",
       "      <td>72</td>\n",
       "      <td>0</td>\n",
       "      <td>6043.460295</td>\n",
       "      <td>2341.838528</td>\n",
       "      <td>7</td>\n",
       "      <td>3</td>\n",
       "      <td>iPhone</td>\n",
       "      <td>2014.486765</td>\n",
       "      <td>0.809524</td>\n",
       "    </tr>\n",
       "    <tr>\n",
       "      <th>10</th>\n",
       "      <td>10</td>\n",
       "      <td>retained</td>\n",
       "      <td>23</td>\n",
       "      <td>20</td>\n",
       "      <td>117.225772</td>\n",
       "      <td>1946</td>\n",
       "      <td>0</td>\n",
       "      <td>36</td>\n",
       "      <td>8554.914440</td>\n",
       "      <td>5352.567720</td>\n",
       "      <td>9</td>\n",
       "      <td>9</td>\n",
       "      <td>iPhone</td>\n",
       "      <td>950.546049</td>\n",
       "      <td>0.869565</td>\n",
       "    </tr>\n",
       "    <tr>\n",
       "      <th>11</th>\n",
       "      <td>11</td>\n",
       "      <td>retained</td>\n",
       "      <td>125</td>\n",
       "      <td>100</td>\n",
       "      <td>357.179031</td>\n",
       "      <td>487</td>\n",
       "      <td>3</td>\n",
       "      <td>7</td>\n",
       "      <td>2284.819767</td>\n",
       "      <td>1034.651333</td>\n",
       "      <td>1</td>\n",
       "      <td>1</td>\n",
       "      <td>iPhone</td>\n",
       "      <td>2284.819767</td>\n",
       "      <td>0.800000</td>\n",
       "    </tr>\n",
       "    <tr>\n",
       "      <th>12</th>\n",
       "      <td>12</td>\n",
       "      <td>retained</td>\n",
       "      <td>51</td>\n",
       "      <td>41</td>\n",
       "      <td>109.881855</td>\n",
       "      <td>2760</td>\n",
       "      <td>64</td>\n",
       "      <td>0</td>\n",
       "      <td>2512.308716</td>\n",
       "      <td>1717.268618</td>\n",
       "      <td>12</td>\n",
       "      <td>12</td>\n",
       "      <td>iPhone</td>\n",
       "      <td>209.359060</td>\n",
       "      <td>0.803922</td>\n",
       "    </tr>\n",
       "    <tr>\n",
       "      <th>13</th>\n",
       "      <td>13</td>\n",
       "      <td>retained</td>\n",
       "      <td>80</td>\n",
       "      <td>64</td>\n",
       "      <td>132.830506</td>\n",
       "      <td>3154</td>\n",
       "      <td>39</td>\n",
       "      <td>16</td>\n",
       "      <td>8531.248070</td>\n",
       "      <td>6324.273457</td>\n",
       "      <td>1</td>\n",
       "      <td>0</td>\n",
       "      <td>Android</td>\n",
       "      <td>0.000000</td>\n",
       "      <td>0.800000</td>\n",
       "    </tr>\n",
       "    <tr>\n",
       "      <th>14</th>\n",
       "      <td>14</td>\n",
       "      <td>churned</td>\n",
       "      <td>72</td>\n",
       "      <td>66</td>\n",
       "      <td>401.351809</td>\n",
       "      <td>2524</td>\n",
       "      <td>54</td>\n",
       "      <td>24</td>\n",
       "      <td>5922.811202</td>\n",
       "      <td>2227.280393</td>\n",
       "      <td>0</td>\n",
       "      <td>0</td>\n",
       "      <td>Android</td>\n",
       "      <td>0.000000</td>\n",
       "      <td>0.916667</td>\n",
       "    </tr>\n",
       "    <tr>\n",
       "      <th>15</th>\n",
       "      <td>15</td>\n",
       "      <td>retained</td>\n",
       "      <td>23</td>\n",
       "      <td>22</td>\n",
       "      <td>95.292159</td>\n",
       "      <td>50</td>\n",
       "      <td>193</td>\n",
       "      <td>0</td>\n",
       "      <td>2188.829771</td>\n",
       "      <td>1775.713499</td>\n",
       "      <td>11</td>\n",
       "      <td>10</td>\n",
       "      <td>iPhone</td>\n",
       "      <td>218.882977</td>\n",
       "      <td>0.956522</td>\n",
       "    </tr>\n",
       "    <tr>\n",
       "      <th>16</th>\n",
       "      <td>16</td>\n",
       "      <td>retained</td>\n",
       "      <td>30</td>\n",
       "      <td>25</td>\n",
       "      <td>41.538372</td>\n",
       "      <td>1554</td>\n",
       "      <td>61</td>\n",
       "      <td>19</td>\n",
       "      <td>1213.549279</td>\n",
       "      <td>949.130125</td>\n",
       "      <td>17</td>\n",
       "      <td>13</td>\n",
       "      <td>Android</td>\n",
       "      <td>93.349945</td>\n",
       "      <td>0.833333</td>\n",
       "    </tr>\n",
       "    <tr>\n",
       "      <th>17</th>\n",
       "      <td>17</td>\n",
       "      <td>churned</td>\n",
       "      <td>272</td>\n",
       "      <td>219</td>\n",
       "      <td>564.271485</td>\n",
       "      <td>88</td>\n",
       "      <td>0</td>\n",
       "      <td>90</td>\n",
       "      <td>3529.338980</td>\n",
       "      <td>2078.426838</td>\n",
       "      <td>11</td>\n",
       "      <td>11</td>\n",
       "      <td>Android</td>\n",
       "      <td>320.848998</td>\n",
       "      <td>0.805147</td>\n",
       "    </tr>\n",
       "    <tr>\n",
       "      <th>18</th>\n",
       "      <td>18</td>\n",
       "      <td>retained</td>\n",
       "      <td>48</td>\n",
       "      <td>38</td>\n",
       "      <td>259.065753</td>\n",
       "      <td>2077</td>\n",
       "      <td>131</td>\n",
       "      <td>11</td>\n",
       "      <td>9140.608725</td>\n",
       "      <td>4922.692428</td>\n",
       "      <td>10</td>\n",
       "      <td>3</td>\n",
       "      <td>Android</td>\n",
       "      <td>3046.869575</td>\n",
       "      <td>0.791667</td>\n",
       "    </tr>\n",
       "    <tr>\n",
       "      <th>19</th>\n",
       "      <td>19</td>\n",
       "      <td>retained</td>\n",
       "      <td>106</td>\n",
       "      <td>98</td>\n",
       "      <td>170.925470</td>\n",
       "      <td>87</td>\n",
       "      <td>0</td>\n",
       "      <td>6</td>\n",
       "      <td>8566.541401</td>\n",
       "      <td>2534.595126</td>\n",
       "      <td>22</td>\n",
       "      <td>20</td>\n",
       "      <td>iPhone</td>\n",
       "      <td>428.327070</td>\n",
       "      <td>0.924528</td>\n",
       "    </tr>\n",
       "  </tbody>\n",
       "</table>\n",
       "</div>"
      ],
      "text/plain": [
       "    ID     label  sessions  drives  total_sessions  n_days_after_onboarding  \\\n",
       "0    0  retained       283     226      296.748273                     2276   \n",
       "1    1  retained       133     107      326.896596                     1225   \n",
       "2    2  retained       114      95      135.522926                     2651   \n",
       "3    3  retained        49      40       67.589221                       15   \n",
       "4    4  retained        84      68      168.247020                     1562   \n",
       "5    5  retained       113     103      279.544437                     2637   \n",
       "6    6  retained         3       2      236.725314                      360   \n",
       "7    7  retained        39      35      176.072845                     2999   \n",
       "8    8  retained        57      46      183.532018                      424   \n",
       "9    9   churned        84      68      244.802115                     2997   \n",
       "10  10  retained        23      20      117.225772                     1946   \n",
       "11  11  retained       125     100      357.179031                      487   \n",
       "12  12  retained        51      41      109.881855                     2760   \n",
       "13  13  retained        80      64      132.830506                     3154   \n",
       "14  14   churned        72      66      401.351809                     2524   \n",
       "15  15  retained        23      22       95.292159                       50   \n",
       "16  16  retained        30      25       41.538372                     1554   \n",
       "17  17   churned       272     219      564.271485                       88   \n",
       "18  18  retained        48      38      259.065753                     2077   \n",
       "19  19  retained       106      98      170.925470                       87   \n",
       "\n",
       "    total_navigations_fav1  total_navigations_fav2  driven_km_drives  \\\n",
       "0                      208                       0       2628.845068   \n",
       "1                       19                      64      13715.920550   \n",
       "2                        0                       0       3059.148818   \n",
       "3                      322                       7        913.591123   \n",
       "4                      166                       5       3950.202008   \n",
       "5                        0                       0        901.238699   \n",
       "6                      185                      18       5249.172828   \n",
       "7                        0                       0       7892.052468   \n",
       "8                        0                      26       2651.709764   \n",
       "9                       72                       0       6043.460295   \n",
       "10                       0                      36       8554.914440   \n",
       "11                       3                       7       2284.819767   \n",
       "12                      64                       0       2512.308716   \n",
       "13                      39                      16       8531.248070   \n",
       "14                      54                      24       5922.811202   \n",
       "15                     193                       0       2188.829771   \n",
       "16                      61                      19       1213.549279   \n",
       "17                       0                      90       3529.338980   \n",
       "18                     131                      11       9140.608725   \n",
       "19                       0                       6       8566.541401   \n",
       "\n",
       "    duration_minutes_drives  activity_days  driving_days   device  \\\n",
       "0               1985.775061             28            19  Android   \n",
       "1               3160.472914             13            11   iPhone   \n",
       "2               1610.735904             14             8  Android   \n",
       "3                587.196542              7             3   iPhone   \n",
       "4               1219.555924             27            18  Android   \n",
       "5                439.101397             15            11   iPhone   \n",
       "6                726.577205             28            23   iPhone   \n",
       "7               2466.981741             22            20   iPhone   \n",
       "8               1594.342984             25            20  Android   \n",
       "9               2341.838528              7             3   iPhone   \n",
       "10              5352.567720              9             9   iPhone   \n",
       "11              1034.651333              1             1   iPhone   \n",
       "12              1717.268618             12            12   iPhone   \n",
       "13              6324.273457              1             0  Android   \n",
       "14              2227.280393              0             0  Android   \n",
       "15              1775.713499             11            10   iPhone   \n",
       "16               949.130125             17            13  Android   \n",
       "17              2078.426838             11            11  Android   \n",
       "18              4922.692428             10             3  Android   \n",
       "19              2534.595126             22            20   iPhone   \n",
       "\n",
       "    km_per_driving_day  monthly_drives_per_session_ratio  \n",
       "0           138.360267                          0.798587  \n",
       "1          1246.901868                          0.804511  \n",
       "2           382.393602                          0.833333  \n",
       "3           304.530374                          0.816327  \n",
       "4           219.455667                          0.809524  \n",
       "5            81.930791                          0.911504  \n",
       "6           228.224906                          0.666667  \n",
       "7           394.602623                          0.897436  \n",
       "8           132.585488                          0.807018  \n",
       "9          2014.486765                          0.809524  \n",
       "10          950.546049                          0.869565  \n",
       "11         2284.819767                          0.800000  \n",
       "12          209.359060                          0.803922  \n",
       "13            0.000000                          0.800000  \n",
       "14            0.000000                          0.916667  \n",
       "15          218.882977                          0.956522  \n",
       "16           93.349945                          0.833333  \n",
       "17          320.848998                          0.805147  \n",
       "18         3046.869575                          0.791667  \n",
       "19          428.327070                          0.924528  "
      ]
     },
     "execution_count": 29,
     "metadata": {},
     "output_type": "execute_result"
    }
   ],
   "source": [
    "df.head(20)"
   ]
  },
  {
   "cell_type": "code",
   "execution_count": 30,
   "id": "14a0b46b",
   "metadata": {
    "execution": {
     "iopub.execute_input": "2023-12-24T23:24:06.060797Z",
     "iopub.status.busy": "2023-12-24T23:24:06.060130Z",
     "iopub.status.idle": "2023-12-24T23:24:06.065557Z",
     "shell.execute_reply": "2023-12-24T23:24:06.064191Z"
    },
    "papermill": {
     "duration": 0.022635,
     "end_time": "2023-12-24T23:24:06.068029",
     "exception": false,
     "start_time": "2023-12-24T23:24:06.045394",
     "status": "completed"
    },
    "tags": []
   },
   "outputs": [],
   "source": [
    "def histogrammer(column_str, **kwargs):    # **kwargs = any keyword arguments\n",
    "                                                             # from the sns.histplot() function\n",
    "    mean=round(df[column_str].mean(), 1)\n",
    "    plt.figure(figsize=(5,3))\n",
    "    ax = sns.histplot(x=df[column_str], **kwargs) "
   ]
  },
  {
   "cell_type": "code",
   "execution_count": 31,
   "id": "08950ae3",
   "metadata": {
    "execution": {
     "iopub.execute_input": "2023-12-24T23:24:06.096821Z",
     "iopub.status.busy": "2023-12-24T23:24:06.095377Z",
     "iopub.status.idle": "2023-12-24T23:24:06.430111Z",
     "shell.execute_reply": "2023-12-24T23:24:06.428878Z"
    },
    "papermill": {
     "duration": 0.351282,
     "end_time": "2023-12-24T23:24:06.432484",
     "exception": false,
     "start_time": "2023-12-24T23:24:06.081202",
     "status": "completed"
    },
    "tags": []
   },
   "outputs": [
    {
     "data": {
      "image/png": "[encoded data removed]",
      "text/plain": [
       "<Figure size 500x300 with 1 Axes>"
      ]
     },
     "metadata": {},
     "output_type": "display_data"
    }
   ],
   "source": [
    "histogrammer('monthly_drives_per_session_ratio')"
   ]
  }
 ],
 "metadata": {
  "kaggle": {
   "accelerator": "none",
   "dataSources": [
    {
     "datasetId": 4217108,
     "sourceId": 7274145,
     "sourceType": "datasetVersion"
    }
   ],
   "dockerImageVersionId": 30626,
   "isGpuEnabled": false,
   "isInternetEnabled": true,
   "language": "python",
   "sourceType": "notebook"
  },
  "kernelspec": {
   "display_name": "Python 3",
   "language": "python",
   "name": "python3"
  },
  "language_info": {
   "codemirror_mode": {
    "name": "ipython",
    "version": 3
   },
   "file_extension": ".py",
   "mimetype": "text/x-python",
   "name": "python",
   "nbconvert_exporter": "python",
   "pygments_lexer": "ipython3",
   "version": "3.10.12"
  },
  "papermill": {
   "default_parameters": {},
   "duration": 11.229792,
   "end_time": "2023-12-24T23:24:07.169504",
   "environment_variables": {},
   "exception": null,
   "input_path": "__notebook__.ipynb",
   "output_path": "__notebook__.ipynb",
   "parameters": {},
   "start_time": "2023-12-24T23:23:55.939712",
   "version": "2.4.0"
  }
 },
 "nbformat": 4,
 "nbformat_minor": 5
}
